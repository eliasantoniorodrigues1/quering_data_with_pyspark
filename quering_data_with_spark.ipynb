{
 "cells": [
  {
   "cell_type": "code",
   "execution_count": 1,
   "metadata": {},
   "outputs": [],
   "source": [
    "# creating a virgual enviroment\n",
    "!python -m venv venv"
   ]
  },
  {
   "cell_type": "code",
   "execution_count": 112,
   "metadata": {},
   "outputs": [],
   "source": [
    "# !pip install pandas\n",
    "# !pip install openpyxl\n",
    "# !pip install PyArrow\n",
    "!pip freeze > requirements.txt"
   ]
  },
  {
   "cell_type": "markdown",
   "metadata": {},
   "source": [
    "### Importing Libries"
   ]
  },
  {
   "cell_type": "code",
   "execution_count": 1,
   "metadata": {},
   "outputs": [],
   "source": [
    "from pyspark.sql import SparkSession\n",
    "import os\n",
    "\n",
    "spark = SparkSession.builder.appName('Quering_Data').getOrCreate()"
   ]
  },
  {
   "cell_type": "markdown",
   "metadata": {},
   "source": [
    "### Setting the Base Directory"
   ]
  },
  {
   "cell_type": "code",
   "execution_count": 2,
   "metadata": {},
   "outputs": [],
   "source": [
    "BASE_DIR = os.path.abspath(os.path.dirname('__file__'))\n",
    "DATA_DIR = os.path.join(BASE_DIR, 'dataset')"
   ]
  },
  {
   "cell_type": "markdown",
   "metadata": {},
   "source": [
    "### Reading CSV File and creating a temp table using Spark"
   ]
  },
  {
   "cell_type": "code",
   "execution_count": null,
   "metadata": {},
   "outputs": [],
   "source": [
    "vendas = spark.read.csv(os.path.join(DATA_DIR, 'report_vendas.csv'), header=True, inferSchema=True, sep=';')\n"
   ]
  },
  {
   "cell_type": "markdown",
   "metadata": {},
   "source": [
    "### Creating a Temp Table"
   ]
  },
  {
   "cell_type": "code",
   "execution_count": 16,
   "metadata": {},
   "outputs": [
    {
     "name": "stdout",
     "output_type": "stream",
     "text": [
      "+------+--------------------+--------+-------+--------------------+------+----+-----------+----+----+--------+----------+--------+------------+--------+--------+----------------+------------+-----------+\n",
      "|CODIGO|           DESCRICAO|    DATA|   NOTA|             CLIENTE|   TPO| CFO|VL_CONTABIL| IPI|ICMS|   CUSTO|QUANTIDADE|  C_UNIT|S_QUANTIDADE|S_C_UNIT| S_TOTAL|SALDO_QUANTIDADE|SALDO_C_UNIT|SALDO_TOTAL|\n",
      "+------+--------------------+--------+-------+--------------------+------+----+-----------+----+----+--------+----------+--------+------------+--------+--------+----------------+------------+-----------+\n",
      "|  1019|DECA BASE REG PRE...|01/03/21| 374059|Transf. para Fili...|   925|5409|       null|null|null|    null|      null|    null|       1,000|18,78917|   18,79|         143,000|    18,78917|   2.686,85|\n",
      "|  1019|DECA BASE REG PRE...|01/03/21| 374084|Transf. para Fili...|   925|5409|       null|null|null|    null|      null|    null|       1,000|18,78917|   18,79|         142,000|    18,78917|   2.668,06|\n",
      "|  1019|DECA BASE REG PRE...|01/03/21| 374152|Transf. para Fili...|   925|5409|       null|null|null|    null|      null|    null|       1,000|18,78917|   18,79|         141,000|    18,78917|   2.649,27|\n",
      "|  1019|DECA BASE REG PRE...|02/03/21|3183539|DURATEX S/A * - D...|100101|2102|   8.475,00|0,00|0,00|6.674,06|   300,000|22,24687|        null|    null|    null|         441,000|    21,14134|   9.323,33|\n",
      "|  1019|DECA BASE REG PRE...|02/03/21| 374433|Transf. para Fili...|   923|5152|       null|null|null|    null|      null|    null|       3,000|21,14134|   63,42|         438,000|    21,14134|   9.259,91|\n",
      "|  1019|DECA BASE REG PRE...|03/03/21| 374670|Transf. para Fili...|   923|5152|       null|null|null|    null|      null|    null|       2,000|21,14134|   42,28|         436,000|    21,14134|   9.217,62|\n",
      "|  1019|DECA BASE REG PRE...|04/03/21| 374919|Transf. para Fili...|   923|5152|       null|null|null|    null|      null|    null|     110,000|21,14134|2.325,55|         326,000|    21,14134|   6.892,08|\n",
      "|  1019|DECA BASE REG PRE...|05/03/21| 374969|LENNARD E CUPOLIL...| 20118|5403|       null|null|null|    null|      null|    null|       2,000|21,14134|   42,28|         324,000|    21,14134|   6.849,79|\n",
      "|  1019|DECA BASE REG PRE...|08/03/21|  27736|Transf. da Filial 04|   928|1209|      42,25|0,00|0,00|   37,58|     2,000|18,78800|        null|    null|    null|         326,000|    21,12690|   6.887,37|\n",
      "|  1019|DECA BASE REG PRE...|09/03/21| 375382|FERRAGENS PRIMUS ...| 20118|5403|       null|null|null|    null|      null|    null|      12,000|21,12690|  253,52|         314,000|    21,12690|   6.633,85|\n",
      "|  1019|DECA BASE REG PRE...|11/03/21| 375843|Transf. para Fili...|   923|5152|       null|null|null|    null|      null|    null|       2,000|21,12690|   42,25|         312,000|    21,12690|   6.591,59|\n",
      "|  1019|DECA BASE REG PRE...|15/03/21| 376209|Transf. para Fili...|   923|5152|       null|null|null|    null|      null|    null|       1,000|21,12690|   21,13|         311,000|    21,12690|   6.570,47|\n",
      "|  1019|DECA BASE REG PRE...|16/03/21| 376323|Transf. para Fili...|   925|5409|       null|null|null|    null|      null|    null|       2,000|21,12690|   42,25|         309,000|    21,12690|   6.528,21|\n",
      "|  1019|DECA BASE REG PRE...|16/03/21| 376433|Transf. para Fili...|   923|5152|       null|null|null|    null|      null|    null|       3,000|21,12690|   63,38|         306,000|    21,12690|   6.464,83|\n",
      "|  1019|DECA BASE REG PRE...|17/03/21| 376452|LENNARD E CUPOLIL...| 20118|5403|       null|null|null|    null|      null|    null|       2,000|21,12690|   42,25|         304,000|    21,12690|   6.422,58|\n",
      "|  1019|DECA BASE REG PRE...|17/03/21| 376630|Transf. para Fili...|   923|5152|       null|null|null|    null|      null|    null|       2,000|21,12690|   42,25|         302,000|    21,12690|   6.380,32|\n",
      "|  1019|DECA BASE REG PRE...|17/03/21| 376634|Transf. para Fili...|   923|5152|       null|null|null|    null|      null|    null|       4,000|21,12690|   84,51|         298,000|    21,12690|   6.295,82|\n",
      "|  1019|DECA BASE REG PRE...|18/03/21| 376871|Transf. para Fili...|   923|5152|       null|null|null|    null|      null|    null|      16,000|21,12690|  338,03|         282,000|    21,12690|   5.957,79|\n",
      "|  1019|DECA BASE REG PRE...|18/03/21| 376873|Transf. para Fili...|   923|5152|       null|null|null|    null|      null|    null|       2,000|21,12690|   42,25|         280,000|    21,12690|   5.915,53|\n",
      "|  1019|DECA BASE REG PRE...|19/03/21|3205311|DURATEX S/A * - D...|100101|2102|   5.368,00|0,00|0,00|4.227,30|   200,000|21,13650|        null|    null|    null|         480,000|    21,13089|  10.142,83|\n",
      "+------+--------------------+--------+-------+--------------------+------+----+-----------+----+----+--------+----------+--------+------------+--------+--------+----------------+------------+-----------+\n",
      "only showing top 20 rows\n",
      "\n"
     ]
    }
   ],
   "source": [
    "vendas.createOrReplaceTempView('vendas')\n",
    "spark.sql('''\n",
    "SELECT\n",
    "                *\n",
    "FROM\n",
    "        vendas\n",
    "''').show()"
   ]
  },
  {
   "cell_type": "code",
   "execution_count": 20,
   "metadata": {},
   "outputs": [
    {
     "name": "stdout",
     "output_type": "stream",
     "text": [
      "+------+--------------------+----+\n",
      "|CODIGO|           DESCRICAO|QTDE|\n",
      "+------+--------------------+----+\n",
      "|201271|QUARTZ ARG FLEXIV...| 657|\n",
      "|201273|QUARTZ ARG PORC I...| 504|\n",
      "|200082|QRTZ.ARG CIMENTCO...| 400|\n",
      "|201027|QUARTZ ARG SUPERC...| 248|\n",
      "| 37173|AMANCO ANEL CERA ...| 232|\n",
      "| 23399|GB PARAFUSO CASTE...| 213|\n",
      "| 30397|BUMAX ESPACADOR C...| 204|\n",
      "| 25665|EFLOOR MANTA C/1,...| 180|\n",
      "|201160|QUARTZ REJ FLEXIV...| 178|\n",
      "| 18664|FIORANNO AZJ 32X5...| 173|\n",
      "| 48525|DURAGRES GRESALAT...| 170|\n",
      "| 40139|EMBRA POR RET 62X...| 161|\n",
      "| 16832|QUARTZ REJ POR/MA...| 154|\n",
      "| 52509|SIF SINFONO/UNIV ...| 150|\n",
      "| 16411|QUARTZ REJ POR/MA...| 146|\n",
      "| 29512|ELIZABETH POR 62,...| 146|\n",
      "| 17146|QUARTZ REJ POR/MA...| 145|\n",
      "| 25664|E.FLOOR COLA PVA ...| 141|\n",
      "| 46693|CARIOCA G. ROUPA ...| 141|\n",
      "|  8605|TRAM TQ C/V A304 ...| 140|\n",
      "+------+--------------------+----+\n",
      "only showing top 20 rows\n",
      "\n"
     ]
    }
   ],
   "source": [
    "spark.sql('''\n",
    "SELECT\n",
    "        CODIGO\n",
    "      , DESCRICAO\n",
    "      , COUNT(*) AS QTDE\n",
    "FROM\n",
    "      vendas\n",
    "GROUP BY\n",
    "        CODIGO\n",
    "      , DESCRICAO\n",
    "ORDER BY\n",
    "      3 DESC\n",
    "''').show()"
   ]
  },
  {
   "cell_type": "code",
   "execution_count": 11,
   "metadata": {},
   "outputs": [
    {
     "name": "stdout",
     "output_type": "stream",
     "text": [
      "root\n",
      " |-- CODIGO: integer (nullable = true)\n",
      " |-- DESCRICAO: string (nullable = true)\n",
      " |-- DATA: string (nullable = true)\n",
      " |-- NOTA: integer (nullable = true)\n",
      " |-- CLIENTE: string (nullable = true)\n",
      " |-- TPO: integer (nullable = true)\n",
      " |-- CFO: integer (nullable = true)\n",
      " |-- VL_CONTABIL: string (nullable = true)\n",
      " |-- IPI: string (nullable = true)\n",
      " |-- ICMS: string (nullable = true)\n",
      " |-- CUSTO: string (nullable = true)\n",
      " |-- QUANTIDADE: string (nullable = true)\n",
      " |-- C_UNIT: string (nullable = true)\n",
      " |-- S_QUANTIDADE: string (nullable = true)\n",
      " |-- S_C_UNIT: string (nullable = true)\n",
      " |-- S_TOTAL: string (nullable = true)\n",
      " |-- SALDO_QUANTIDADE: string (nullable = true)\n",
      " |-- SALDO_C_UNIT: string (nullable = true)\n",
      " |-- SALDO_TOTAL: string (nullable = true)\n",
      "\n"
     ]
    }
   ],
   "source": [
    "vendas.printSchema()"
   ]
  },
  {
   "cell_type": "markdown",
   "metadata": {},
   "source": [
    "### Working with Excel file"
   ]
  },
  {
   "cell_type": "markdown",
   "metadata": {},
   "source": [
    "### Function to convert string price to float"
   ]
  },
  {
   "cell_type": "code",
   "execution_count": 80,
   "metadata": {},
   "outputs": [],
   "source": [
    "import re\n",
    "\n",
    "\n",
    "def convert_price(preco: str) -> float:\n",
    "    p = re.sub(r'[^0-9.,]+', '', preco)\n",
    "    try:\n",
    "        return float(p.replace('.', '').replace(',', '.'))\n",
    "    except:\n",
    "        return 0\n"
   ]
  },
  {
   "cell_type": "code",
   "execution_count": 106,
   "metadata": {},
   "outputs": [
    {
     "data": {
      "text/html": [
       "<div>\n",
       "<style scoped>\n",
       "    .dataframe tbody tr th:only-of-type {\n",
       "        vertical-align: middle;\n",
       "    }\n",
       "\n",
       "    .dataframe tbody tr th {\n",
       "        vertical-align: top;\n",
       "    }\n",
       "\n",
       "    .dataframe thead th {\n",
       "        text-align: right;\n",
       "    }\n",
       "</style>\n",
       "<table border=\"1\" class=\"dataframe\">\n",
       "  <thead>\n",
       "    <tr style=\"text-align: right;\">\n",
       "      <th></th>\n",
       "      <th>PRECO</th>\n",
       "      <th>TIPO</th>\n",
       "      <th>MARCA</th>\n",
       "      <th>MODELO</th>\n",
       "    </tr>\n",
       "  </thead>\n",
       "  <tbody>\n",
       "    <tr>\n",
       "      <th>0</th>\n",
       "      <td>65000.0</td>\n",
       "      <td>CARRETA</td>\n",
       "      <td>SEMI-REBOQUE</td>\n",
       "      <td>CARGA SECA</td>\n",
       "    </tr>\n",
       "    <tr>\n",
       "      <th>1</th>\n",
       "      <td>125000.0</td>\n",
       "      <td>CARRETA</td>\n",
       "      <td>BITREM</td>\n",
       "      <td>GRANELEIRO</td>\n",
       "    </tr>\n",
       "    <tr>\n",
       "      <th>2</th>\n",
       "      <td>18000.0</td>\n",
       "      <td>CARRETA</td>\n",
       "      <td>SEMI-REBOQUE</td>\n",
       "      <td>BAU FURGÃO</td>\n",
       "    </tr>\n",
       "    <tr>\n",
       "      <th>3</th>\n",
       "      <td>405000.0</td>\n",
       "      <td>CARRETA</td>\n",
       "      <td>RODOTREM</td>\n",
       "      <td>BASCULANTE</td>\n",
       "    </tr>\n",
       "    <tr>\n",
       "      <th>4</th>\n",
       "      <td>326900.0</td>\n",
       "      <td>CARRETA</td>\n",
       "      <td>RODOTREM</td>\n",
       "      <td>BASCULANTE</td>\n",
       "    </tr>\n",
       "  </tbody>\n",
       "</table>\n",
       "</div>"
      ],
      "text/plain": [
       "      PRECO     TIPO         MARCA      MODELO\n",
       "0   65000.0  CARRETA  SEMI-REBOQUE  CARGA SECA\n",
       "1  125000.0  CARRETA        BITREM  GRANELEIRO\n",
       "2   18000.0  CARRETA  SEMI-REBOQUE  BAU FURGÃO\n",
       "3  405000.0  CARRETA      RODOTREM  BASCULANTE\n",
       "4  326900.0  CARRETA      RODOTREM  BASCULANTE"
      ]
     },
     "execution_count": 106,
     "metadata": {},
     "output_type": "execute_result"
    }
   ],
   "source": [
    "import pandas as pd\n",
    "# from pyspark.pandas import read_excel\n",
    "\n",
    "\n",
    "# first create a dataframe using pandas\n",
    "df = pd.read_excel(os.path.join(DATA_DIR, 'caminhoes_carretas.xlsx'))\n",
    "df = df.drop(columns=['detalhes.Eixos'])\n",
    "df['detalhes.Preço'] = df['detalhes.Preço'].apply(convert_price)\n",
    "df_new = df.iloc[:, 4:8].copy()\n",
    "df_new.columns = ['PRECO', 'TIPO', 'MARCA', 'MODELO']\n",
    "df_new.head()"
   ]
  },
  {
   "cell_type": "code",
   "execution_count": 107,
   "metadata": {},
   "outputs": [],
   "source": [
    "# transform pandas dataframe into a spark dataframe\n",
    "caminhoes = spark.createDataFrame(df_new)\n",
    "caminhoes.createOrReplaceTempView('caminhao')\n",
    "\n"
   ]
  },
  {
   "cell_type": "code",
   "execution_count": 108,
   "metadata": {},
   "outputs": [
    {
     "name": "stdout",
     "output_type": "stream",
     "text": [
      "root\n",
      " |-- PRECO: double (nullable = true)\n",
      " |-- TIPO: string (nullable = true)\n",
      " |-- MARCA: string (nullable = true)\n",
      " |-- MODELO: string (nullable = true)\n",
      "\n"
     ]
    }
   ],
   "source": [
    "caminhoes.printSchema()"
   ]
  },
  {
   "cell_type": "code",
   "execution_count": 111,
   "metadata": {},
   "outputs": [
    {
     "name": "stdout",
     "output_type": "stream",
     "text": [
      "+--------------------+-------------+\n",
      "|                TIPO|        TOTAL|\n",
      "+--------------------+-------------+\n",
      "|             CARRETA|    2693500.0|\n",
      "|CARROCERIA SOBRE ...|1.178591112E7|\n",
      "|              ONIBUS|     973000.0|\n",
      "|         UTILITARIOS|    2370500.0|\n",
      "|                VANS|    1166000.0|\n",
      "|              TRATOR|    3864900.0|\n",
      "+--------------------+-------------+\n",
      "\n"
     ]
    }
   ],
   "source": [
    "spark.sql('''\n",
    "SELECT \n",
    "            TIPO\n",
    "          , SUM(PRECO) AS TOTAL \n",
    "FROM \n",
    "        caminhao\n",
    "GROUP BY \n",
    "            TIPO\n",
    "''').show()"
   ]
  },
  {
   "cell_type": "code",
   "execution_count": 102,
   "metadata": {},
   "outputs": [
    {
     "ename": "AnalysisException",
     "evalue": "Column 'detalhes.Tipo' does not exist. Did you mean one of the following? [caminhao.detalhes.Tipo, caminhao.detalhes.Preço, caminhao.detalhes.Marca, caminhao.detalhes.Modelo]; line 3 pos 8;\n'Aggregate ['detalhes.Tipo], ['detalhes.Tipo AS Tipo#880]\n+- SubqueryAlias caminhao\n   +- View (`caminhao`, [detalhes.Preço#847,detalhes.Tipo#848,detalhes.Marca#849,detalhes.Modelo#850])\n      +- LogicalRDD [detalhes.Preço#847, detalhes.Tipo#848, detalhes.Marca#849, detalhes.Modelo#850], false\n",
     "output_type": "error",
     "traceback": [
      "\u001b[1;31m---------------------------------------------------------------------------\u001b[0m",
      "\u001b[1;31mAnalysisException\u001b[0m                         Traceback (most recent call last)",
      "\u001b[1;32md:\\Cursos\\quering_sql_pyspark\\quering_data_with_spark.ipynb Cell 20\u001b[0m in \u001b[0;36m<cell line: 1>\u001b[1;34m()\u001b[0m\n\u001b[1;32m----> <a href='vscode-notebook-cell:/d%3A/Cursos/quering_sql_pyspark/quering_data_with_spark.ipynb#X23sZmlsZQ%3D%3D?line=0'>1</a>\u001b[0m spark\u001b[39m.\u001b[39;49msql(\u001b[39m'''\u001b[39;49m\n\u001b[0;32m      <a href='vscode-notebook-cell:/d%3A/Cursos/quering_sql_pyspark/quering_data_with_spark.ipynb#X23sZmlsZQ%3D%3D?line=1'>2</a>\u001b[0m \u001b[39mSELECT \u001b[39;49m\n\u001b[0;32m      <a href='vscode-notebook-cell:/d%3A/Cursos/quering_sql_pyspark/quering_data_with_spark.ipynb#X23sZmlsZQ%3D%3D?line=2'>3</a>\u001b[0m \u001b[39m        detalhes.Tipo as Tipo\u001b[39;49m\n\u001b[0;32m      <a href='vscode-notebook-cell:/d%3A/Cursos/quering_sql_pyspark/quering_data_with_spark.ipynb#X23sZmlsZQ%3D%3D?line=3'>4</a>\u001b[0m \u001b[39m     --,  SUM(detalhes.Preço) as Valor_Total\u001b[39;49m\n\u001b[0;32m      <a href='vscode-notebook-cell:/d%3A/Cursos/quering_sql_pyspark/quering_data_with_spark.ipynb#X23sZmlsZQ%3D%3D?line=4'>5</a>\u001b[0m \u001b[39mFROM \u001b[39;49m\n\u001b[0;32m      <a href='vscode-notebook-cell:/d%3A/Cursos/quering_sql_pyspark/quering_data_with_spark.ipynb#X23sZmlsZQ%3D%3D?line=5'>6</a>\u001b[0m \u001b[39m        caminhao\u001b[39;49m\n\u001b[0;32m      <a href='vscode-notebook-cell:/d%3A/Cursos/quering_sql_pyspark/quering_data_with_spark.ipynb#X23sZmlsZQ%3D%3D?line=6'>7</a>\u001b[0m \u001b[39mGROUP BY\u001b[39;49m\n\u001b[0;32m      <a href='vscode-notebook-cell:/d%3A/Cursos/quering_sql_pyspark/quering_data_with_spark.ipynb#X23sZmlsZQ%3D%3D?line=7'>8</a>\u001b[0m \u001b[39m        detalhes.Tipo\u001b[39;49m\n\u001b[0;32m      <a href='vscode-notebook-cell:/d%3A/Cursos/quering_sql_pyspark/quering_data_with_spark.ipynb#X23sZmlsZQ%3D%3D?line=8'>9</a>\u001b[0m \u001b[39m'''\u001b[39;49m)\u001b[39m.\u001b[39mshow()\n",
      "File \u001b[1;32mc:\\Users\\leleu\\AppData\\Local\\Programs\\Python\\Python310\\lib\\site-packages\\pyspark\\sql\\session.py:1034\u001b[0m, in \u001b[0;36mSparkSession.sql\u001b[1;34m(self, sqlQuery, **kwargs)\u001b[0m\n\u001b[0;32m   1032\u001b[0m     sqlQuery \u001b[39m=\u001b[39m formatter\u001b[39m.\u001b[39mformat(sqlQuery, \u001b[39m*\u001b[39m\u001b[39m*\u001b[39mkwargs)\n\u001b[0;32m   1033\u001b[0m \u001b[39mtry\u001b[39;00m:\n\u001b[1;32m-> 1034\u001b[0m     \u001b[39mreturn\u001b[39;00m DataFrame(\u001b[39mself\u001b[39;49m\u001b[39m.\u001b[39;49m_jsparkSession\u001b[39m.\u001b[39;49msql(sqlQuery), \u001b[39mself\u001b[39m)\n\u001b[0;32m   1035\u001b[0m \u001b[39mfinally\u001b[39;00m:\n\u001b[0;32m   1036\u001b[0m     \u001b[39mif\u001b[39;00m \u001b[39mlen\u001b[39m(kwargs) \u001b[39m>\u001b[39m \u001b[39m0\u001b[39m:\n",
      "File \u001b[1;32mc:\\Users\\leleu\\AppData\\Local\\Programs\\Python\\Python310\\lib\\site-packages\\py4j\\java_gateway.py:1321\u001b[0m, in \u001b[0;36mJavaMember.__call__\u001b[1;34m(self, *args)\u001b[0m\n\u001b[0;32m   1315\u001b[0m command \u001b[39m=\u001b[39m proto\u001b[39m.\u001b[39mCALL_COMMAND_NAME \u001b[39m+\u001b[39m\\\n\u001b[0;32m   1316\u001b[0m     \u001b[39mself\u001b[39m\u001b[39m.\u001b[39mcommand_header \u001b[39m+\u001b[39m\\\n\u001b[0;32m   1317\u001b[0m     args_command \u001b[39m+\u001b[39m\\\n\u001b[0;32m   1318\u001b[0m     proto\u001b[39m.\u001b[39mEND_COMMAND_PART\n\u001b[0;32m   1320\u001b[0m answer \u001b[39m=\u001b[39m \u001b[39mself\u001b[39m\u001b[39m.\u001b[39mgateway_client\u001b[39m.\u001b[39msend_command(command)\n\u001b[1;32m-> 1321\u001b[0m return_value \u001b[39m=\u001b[39m get_return_value(\n\u001b[0;32m   1322\u001b[0m     answer, \u001b[39mself\u001b[39;49m\u001b[39m.\u001b[39;49mgateway_client, \u001b[39mself\u001b[39;49m\u001b[39m.\u001b[39;49mtarget_id, \u001b[39mself\u001b[39;49m\u001b[39m.\u001b[39;49mname)\n\u001b[0;32m   1324\u001b[0m \u001b[39mfor\u001b[39;00m temp_arg \u001b[39min\u001b[39;00m temp_args:\n\u001b[0;32m   1325\u001b[0m     temp_arg\u001b[39m.\u001b[39m_detach()\n",
      "File \u001b[1;32mc:\\Users\\leleu\\AppData\\Local\\Programs\\Python\\Python310\\lib\\site-packages\\pyspark\\sql\\utils.py:196\u001b[0m, in \u001b[0;36mcapture_sql_exception.<locals>.deco\u001b[1;34m(*a, **kw)\u001b[0m\n\u001b[0;32m    192\u001b[0m converted \u001b[39m=\u001b[39m convert_exception(e\u001b[39m.\u001b[39mjava_exception)\n\u001b[0;32m    193\u001b[0m \u001b[39mif\u001b[39;00m \u001b[39mnot\u001b[39;00m \u001b[39misinstance\u001b[39m(converted, UnknownException):\n\u001b[0;32m    194\u001b[0m     \u001b[39m# Hide where the exception came from that shows a non-Pythonic\u001b[39;00m\n\u001b[0;32m    195\u001b[0m     \u001b[39m# JVM exception message.\u001b[39;00m\n\u001b[1;32m--> 196\u001b[0m     \u001b[39mraise\u001b[39;00m converted \u001b[39mfrom\u001b[39;00m \u001b[39mNone\u001b[39m\n\u001b[0;32m    197\u001b[0m \u001b[39melse\u001b[39;00m:\n\u001b[0;32m    198\u001b[0m     \u001b[39mraise\u001b[39;00m\n",
      "\u001b[1;31mAnalysisException\u001b[0m: Column 'detalhes.Tipo' does not exist. Did you mean one of the following? [caminhao.detalhes.Tipo, caminhao.detalhes.Preço, caminhao.detalhes.Marca, caminhao.detalhes.Modelo]; line 3 pos 8;\n'Aggregate ['detalhes.Tipo], ['detalhes.Tipo AS Tipo#880]\n+- SubqueryAlias caminhao\n   +- View (`caminhao`, [detalhes.Preço#847,detalhes.Tipo#848,detalhes.Marca#849,detalhes.Modelo#850])\n      +- LogicalRDD [detalhes.Preço#847, detalhes.Tipo#848, detalhes.Marca#849, detalhes.Modelo#850], false\n"
     ]
    }
   ],
   "source": [
    "spark.sql('''\n",
    "SELECT \n",
    "        detalhes.Tipo as Tipo\n",
    "     --,  SUM(detalhes.Preço) as Valor_Total\n",
    "FROM \n",
    "        caminhao\n",
    "GROUP BY\n",
    "        detalhes.Tipo\n",
    "''').show()"
   ]
  }
 ],
 "metadata": {
  "kernelspec": {
   "display_name": "Python 3.10.4 64-bit",
   "language": "python",
   "name": "python3"
  },
  "language_info": {
   "codemirror_mode": {
    "name": "ipython",
    "version": 3
   },
   "file_extension": ".py",
   "mimetype": "text/x-python",
   "name": "python",
   "nbconvert_exporter": "python",
   "pygments_lexer": "ipython3",
   "version": "3.10.4"
  },
  "orig_nbformat": 4,
  "vscode": {
   "interpreter": {
    "hash": "ec514aa96aa0557cab22e517f3dd3710bd5a15a2f17e934806ff9ae97a821caf"
   }
  }
 },
 "nbformat": 4,
 "nbformat_minor": 2
}
